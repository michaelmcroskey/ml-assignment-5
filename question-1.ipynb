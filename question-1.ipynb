{
 "cells": [
  {
   "cell_type": "markdown",
   "metadata": {
    "deletable": true,
    "editable": true
   },
   "source": [
    "# Question 1\n",
    "Implement the delta training rule for a two-input linear unit. Train it to fit the target concept -2 + x1 + x2 > 0. You can (uniformly) randomly select x1 and x2 from -1000 to + 1000. Plot the error E as a function of the number of training iterations. Plot the decision surface after 5, 10, 50, 100, 500, … iterations.  (20 points)"
   ]
  },
  {
   "cell_type": "markdown",
   "metadata": {
    "deletable": true,
    "editable": true
   },
   "source": [
    "*Extra Credit: Try this using various constant values for η and using a decaying learning rate of η0 / i for the ith iteration. Which works better? (5 points)*"
   ]
  },
  {
   "cell_type": "code",
   "execution_count": 322,
   "metadata": {
    "collapsed": false
   },
   "outputs": [],
   "source": [
    "import numpy as np\n",
    "import math\n",
    "import matplotlib.pyplot as plt"
   ]
  },
  {
   "cell_type": "markdown",
   "metadata": {},
   "source": [
    "### generate_data(x_min_range, x_max_range, N, m):\n",
    "Generates a data array used as the training examples"
   ]
  },
  {
   "cell_type": "code",
   "execution_count": 323,
   "metadata": {
    "collapsed": true
   },
   "outputs": [],
   "source": [
    "def generate_data(x_min_range, x_max_range, N, m):\n",
    "    data = np.random.uniform(x_min_range,x_max_range,size=[N,m])\n",
    "    data = np.concatenate((np.ones([N,1]),data),axis=1)\n",
    "    return data"
   ]
  },
  {
   "cell_type": "markdown",
   "metadata": {},
   "source": [
    "### gradient_descent(training_examples, n)\n",
    "Each training example is a pair of the form <x, t> where x is the vector of input values and t is the target output value.  n is the learning rate."
   ]
  },
  {
   "cell_type": "code",
   "execution_count": 324,
   "metadata": {
    "collapsed": false,
    "deletable": true,
    "editable": true
   },
   "outputs": [],
   "source": [
    "def gradient_descent(training_examples, n):\n",
    "    # Training iterations\n",
    "    iterations = [5, 10, 50, 100, 500]\n",
    "    \n",
    "    # Initialize iter_error\n",
    "    iter_error = []\n",
    "    \n",
    "    # Initialize each w_i to some random small value\n",
    "    w = np.random.random((2))/100\n",
    "    \n",
    "    # Initialize termination condition\n",
    "    counter = 1\n",
    "    \n",
    "    # Initialize delta_w to 0\n",
    "    delta_w = [0, 0]\n",
    "\n",
    "    # Until termination condition is met\n",
    "    while counter <= 500:\n",
    "        # Initialize E\n",
    "        E = 0.0\n",
    "        \n",
    "        # Loop through the training examples\n",
    "        for t in training_examples:\n",
    "            # Input the instance to the unit and compute the output o\n",
    "            unit_calculation = t[1] + t[2] + -2\n",
    "            target = 1\n",
    "            if unit_calculation < 0:\n",
    "                target = -1\n",
    "\n",
    "            # Define output\n",
    "            output = direction(np.dot([t[1],t[2]],w))\n",
    "            \n",
    "            # Calculate delta_w_i\n",
    "            for j in range(len(w)):\n",
    "                delta_w[j] = delta_w[j] + n*(target - output)*t[j+1]\n",
    "                 \n",
    "            E += (target-output)*(target-output)*.5\n",
    "\n",
    "   \n",
    "        # Calculate w_i\n",
    "        for k in range(len(w)):\n",
    "            w[k] = delta_w[k] + w[k]\n",
    "        \n",
    "        \n",
    "        # Update the termination counter\n",
    "        counter += 1\n",
    "\n",
    "        # Print at specific points\n",
    "        if (counter == 5) or (counter == 10) or (counter == 50) or (counter == 100) or (counter == 500):\n",
    "            print \"Reached the end for iteration #\", counter\n",
    "            print \"E = \", E\n",
    "            print \"-----\"\n",
    "        \n",
    "        # Append it to the iteration error\n",
    "        iter_error.append(E)\n",
    "        \n",
    "    # Plot the results\n",
    "    plt.plot([x for x in range(0,500)], [y for y in iter_error])\n",
    "    plt.xlabel('Number of iterations')\n",
    "    plt.ylabel('Sum of Squared Error')\n",
    "    plt.show()\n",
    "\n",
    "def direction(val):\n",
    "    if val>0:\n",
    "        return 1\n",
    "    return -1"
   ]
  },
  {
   "cell_type": "markdown",
   "metadata": {},
   "source": [
    "### Main function calls\n",
    "Below code calls functions necessary to implement delta rule for function."
   ]
  },
  {
   "cell_type": "code",
   "execution_count": 325,
   "metadata": {
    "collapsed": false
   },
   "outputs": [
    {
     "name": "stdout",
     "output_type": "stream",
     "text": [
      "Reached the end for iteration # 5\n",
      "E =  1800.0\n",
      "-----\n",
      "Reached the end for iteration # 10\n",
      "E =  746.0\n",
      "-----\n",
      "Reached the end for iteration # 50\n",
      "E =  176.0\n",
      "-----\n",
      "Reached the end for iteration # 100\n",
      "E =  94.0\n",
      "-----\n",
      "Reached the end for iteration # 500\n",
      "E =  26.0\n",
      "-----\n"
     ]
    },
    {
     "data": {
      "image/png": "[encoded data removed]",
      "text/plain": [
       "<Figure size 432x288 with 1 Axes>"
      ]
     },
     "metadata": {},
     "output_type": "display_data"
    }
   ],
   "source": [
    "data = generate_data(-1000, 1000, 5000, 2)\n",
    "n = 0.05\n",
    "gradient_descent(data, n)"
   ]
  }
 ],
 "metadata": {
  "kernelspec": {
   "display_name": "Python 2",
   "language": "python",
   "name": "python2"
  },
  "language_info": {
   "codemirror_mode": {
    "name": "ipython",
    "version": 2
   },
   "file_extension": ".py",
   "mimetype": "text/x-python",
   "name": "python",
   "nbconvert_exporter": "python",
   "pygments_lexer": "ipython2",
   "version": "2.7.14"
  }
 },
 "nbformat": 4,
 "nbformat_minor": 2
}
