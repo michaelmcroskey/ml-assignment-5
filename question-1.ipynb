{
 "cells": [
  {
   "attachments": {},
   "cell_type": "markdown",
   "metadata": {},
   "source": [
    "# Question 1\n",
    "Implement the delta training rule for a two-input linear unit. Train it to fit the target concept -2 + x1 + x2 > 0. You can (uniformly) randomly select x1 and x2 from -1000 to + 1000. Plot the error E as a function of the number of training iterations. Plot the decision surface after 5, 10, 50, 100, 500, … iterations.  (20 points)"
   ]
  },
  {
   "cell_type": "markdown",
   "metadata": {},
   "source": [
    "*Extra Credit: Try this using various constant values for η and using a decaying learning rate of η0 / i for the ith iteration. Which works better? (5 points)*"
   ]
  },
  {
   "cell_type": "code",
   "execution_count": null,
   "metadata": {},
   "outputs": [],
   "source": []
  }
 ],
 "metadata": {
  "kernelspec": {
   "display_name": "Python 2",
   "language": "python",
   "name": "python2"
  },
  "language_info": {
   "codemirror_mode": {
    "name": "ipython",
    "version": 2
   },
   "file_extension": ".py",
   "mimetype": "text/x-python",
   "name": "python",
   "nbconvert_exporter": "python",
   "pygments_lexer": "ipython2",
   "version": "2.7.10"
  }
 },
 "nbformat": 4,
 "nbformat_minor": 2
}
